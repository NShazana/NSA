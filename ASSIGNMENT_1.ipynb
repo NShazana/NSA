{
  "nbformat": 4,
  "nbformat_minor": 0,
  "metadata": {
    "colab": {
      "provenance": []
    },
    "kernelspec": {
      "name": "python3",
      "display_name": "Python 3"
    },
    "language_info": {
      "name": "python"
    }
  },
  "cells": [
    {
      "cell_type": "code",
      "execution_count": 1,
      "metadata": {
        "colab": {
          "base_uri": "https://localhost:8080/"
        },
        "id": "ARRB9rnxjUFk",
        "outputId": "a35f9a14-852d-448e-a26f-3ed4bd3e9f1d"
      },
      "outputs": [
        {
          "output_type": "stream",
          "name": "stdout",
          "text": [
            "Largest element is: 75\n"
          ]
        }
      ],
      "source": [
        "# function to find largest in the list using for loop\n",
        "def large(list1):\n",
        "  max = list1[0]\n",
        "  for x in list1:\n",
        "    if x > max:\n",
        "      max = x\n",
        "\n",
        "  return max\n",
        "\n",
        "list1 = [5, 10, 15, 75]\n",
        "print(\"Largest element is:\", large(list1))"
      ]
    }
  ]
}