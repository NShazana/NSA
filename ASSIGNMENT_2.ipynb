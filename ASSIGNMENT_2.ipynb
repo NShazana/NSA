{
  "nbformat": 4,
  "nbformat_minor": 0,
  "metadata": {
    "colab": {
      "provenance": []
    },
    "kernelspec": {
      "name": "python3",
      "display_name": "Python 3"
    },
    "language_info": {
      "name": "python"
    }
  },
  "cells": [
    {
      "cell_type": "code",
      "source": [
        "class Person():\n",
        "  def __init__(self, name, age):\n",
        "    self.name = name\n",
        "    self.age = age\n",
        "\n",
        "  def display(self):\n",
        "    print(\"name\", self.name)\n",
        "    print(\"age\", self.age)\n",
        "\n",
        "  def __str__(self):\n",
        "    return f\"Name: {self.name} Age: ({self.age})\"\n",
        "\n",
        "class Student(Person):\n",
        "  def __init__(self, name, age, matric_no):\n",
        "    Person.__init__(self, name, age)\n",
        "    self.mno = matric_no\n",
        "\n",
        "  def display(self):\n",
        "    print(\"name\", self.name)\n",
        "    print(\"age\", self.age)\n",
        "    print(\"matric_no\", self.mno)\n",
        "  \n",
        "a1 = Student(\"Shazana\", 24, \"1816406\")\n",
        "a1.display()"
      ],
      "metadata": {
        "colab": {
          "base_uri": "https://localhost:8080/"
        },
        "id": "s95Sa66EmEkf",
        "outputId": "2fea1ba4-b9ac-40c3-b1d7-c4d7358f71dd"
      },
      "execution_count": 9,
      "outputs": [
        {
          "output_type": "stream",
          "name": "stdout",
          "text": [
            "name Shazana\n",
            "age 24\n",
            "matric_no 1816406\n"
          ]
        }
      ]
    }
  ]
}